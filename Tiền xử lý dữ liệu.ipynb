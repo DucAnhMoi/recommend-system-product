{
 "cells": [
  {
   "cell_type": "markdown",
   "metadata": {},
   "source": [
    "# Thu thập dữ liệu từ nhiều nguồn (Done)"
   ]
  },
  {
   "cell_type": "code",
   "execution_count": null,
   "metadata": {},
   "outputs": [],
   "source": [
    "# Import các thư viện cần thiết\n",
    "import pandas as pd"
   ]
  },
  {
   "cell_type": "code",
   "execution_count": 1,
   "metadata": {},
   "outputs": [
    {
     "name": "stdout",
     "output_type": "stream",
     "text": [
      "                event_time event_type  product_id          category_id  \\\n",
      "0  2019-10-01 00:00:00 UTC       view    44600062  2103807459595387724   \n",
      "1  2019-10-01 00:00:00 UTC       view     3900821  2053013552326770905   \n",
      "2  2019-10-01 00:00:01 UTC       view    17200506  2053013559792632471   \n",
      "3  2019-10-01 00:00:01 UTC       view     1307067  2053013558920217191   \n",
      "4  2019-10-01 00:00:04 UTC       view     1004237  2053013555631882655   \n",
      "\n",
      "                         category_code     brand    price    user_id  \\\n",
      "0                                  NaN  shiseido    35.79  541312140   \n",
      "1  appliances.environment.water_heater      aqua    33.20  554748717   \n",
      "2           furniture.living_room.sofa       NaN   543.10  519107250   \n",
      "3                   computers.notebook    lenovo   251.74  550050854   \n",
      "4               electronics.smartphone     apple  1081.98  535871217   \n",
      "\n",
      "                           user_session  \n",
      "0  72d76fde-8bb3-4e00-8c23-a032dfed738c  \n",
      "1  9333dfbd-b87a-4708-9857-6336556b0fcc  \n",
      "2  566511c2-e2e3-422b-b695-cf8e6e792ca8  \n",
      "3  7c90fc70-0e80-4590-96f3-13c02c18c713  \n",
      "4  c6bd7419-2748-4c56-95b4-8cec9ff8b80d  \n"
     ]
    }
   ],
   "source": [
    "# Đọc dữ liệu từ file CSV\n",
    "file_path = \"D:/Download/2019-Oct.csv\" \n",
    "data = pd.read_csv(file_path)\n",
    "\n",
    "# Hiển thị 5 dòng đầu tiên của dữ liệu\n",
    "print(data.head())"
   ]
  },
  {
   "cell_type": "markdown",
   "metadata": {},
   "source": [
    "# Gán nhãn dữ liệu cho bộ dữ liệu"
   ]
  },
  {
   "cell_type": "code",
   "execution_count": null,
   "metadata": {},
   "outputs": [],
   "source": [
    "import pandas as pd\n",
    "\n",
    "# Đọc dữ liệu từ tập tin (giả sử dữ liệu đã được tải vào DataFrame df)\n",
    "df = pd.read_csv('path_to_your_file.csv')\n",
    "\n",
    "# Tạo cột 'interaction' dựa trên 'event_type'\n",
    "event_type_to_interaction = {\n",
    "    'view': 1,\n",
    "    'cart': 2,\n",
    "    'purchase': 3\n",
    "}\n",
    "\n",
    "df['interaction'] = df['event_type'].map(event_type_to_interaction)\n",
    "\n",
    "# Lọc bỏ các cột không cần thiết\n",
    "df = df[['user_id', 'product_id', 'interaction']]\n",
    "\n",
    "# Hiển thị dữ liệu đã chuẩn bị\n",
    "print(df.head())\n"
   ]
  }
 ],
 "metadata": {
  "kernelspec": {
   "display_name": "Python 3",
   "language": "python",
   "name": "python3"
  },
  "language_info": {
   "codemirror_mode": {
    "name": "ipython",
    "version": 3
   },
   "file_extension": ".py",
   "mimetype": "text/x-python",
   "name": "python",
   "nbconvert_exporter": "python",
   "pygments_lexer": "ipython3",
   "version": "3.12.2"
  }
 },
 "nbformat": 4,
 "nbformat_minor": 2
}
